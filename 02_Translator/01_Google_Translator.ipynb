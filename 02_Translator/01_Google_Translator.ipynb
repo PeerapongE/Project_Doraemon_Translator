{
 "cells": [
  {
   "cell_type": "markdown",
   "metadata": {},
   "source": [
    "# Python 101: Let's get started\n",
    "## Google Translate\n",
    "\n",
    "<img src=\"Pic_data/Python_Logo.png\" width = 500>\n",
    "\n",
    "\n",
    "<img src=\"Pic_data/PY-01_Elephant.jpg\" width = 400>\n",
    "\n",
    "https://www.facebook.com/elephant.data.th/\n",
    "\n",
    "\n"
   ]
  },
  {
   "cell_type": "markdown",
   "metadata": {},
   "source": [
    "## Objective\n",
    "\n",
    "* Perform translation using google transator tool\n",
    "* free of charge\n",
    "\n",
    "## Reading document\n",
    "\n",
    "* https://pypi.org/project/googletrans/"
   ]
  },
  {
   "cell_type": "markdown",
   "metadata": {},
   "source": [
    "## Translation with google translate\n",
    "\n",
    "<img src = \"Pic_data/google-translate.png\" width = 500>"
   ]
  },
  {
   "cell_type": "markdown",
   "metadata": {},
   "source": [
    "## Set-up translator"
   ]
  },
  {
   "cell_type": "code",
   "execution_count": null,
   "metadata": {},
   "outputs": [],
   "source": [
    "# Installation\n",
    "# pip install py_translator\n",
    "\n",
    "from py_translator import Translator"
   ]
  },
  {
   "cell_type": "code",
   "execution_count": null,
   "metadata": {},
   "outputs": [],
   "source": [
    "# Create object from Translator\n",
    "\n",
    "translator = Translator()"
   ]
  },
  {
   "cell_type": "markdown",
   "metadata": {},
   "source": [
    "## 1. Perform Translation\n",
    "### 1.1 Translate English to Thai"
   ]
  },
  {
   "cell_type": "markdown",
   "metadata": {},
   "source": [
    "### Languages option\n",
    "\n",
    "https://py-googletrans.readthedocs.io/en/latest/\n",
    "\n",
    "\n",
    "<img src = \"Pic_data/language.png\" width = 300>"
   ]
  },
  {
   "cell_type": "code",
   "execution_count": null,
   "metadata": {},
   "outputs": [],
   "source": [
    "# Perform Translation\n",
    "\n",
    "text_source = 'hello my friend'\n",
    "\n",
    "translations = translator.translate(text =  text_source, # text ต้นทาง\n",
    "                                    src  = 'en', # ภาษาต้นทาง\n",
    "                                    dest = 'th') # ภาษาที่เราต้องการแปล\n",
    "\n",
    "# ได้มาเป็น object ของ การแปลภาษา\n",
    "translations"
   ]
  },
  {
   "cell_type": "code",
   "execution_count": null,
   "metadata": {},
   "outputs": [],
   "source": [
    "# ภาษาต้นทางก่อนแปล\n",
    "print('Original Text :')\n",
    "print(translations.origin)"
   ]
  },
  {
   "cell_type": "code",
   "execution_count": null,
   "metadata": {},
   "outputs": [],
   "source": [
    "# ผลลัพธ์จากการแปลภาษา\n",
    "print('Translated Text :')\n",
    "print(translations.text)"
   ]
  },
  {
   "cell_type": "markdown",
   "metadata": {},
   "source": [
    "### 1.2 Translate Thai to English\n",
    "\n",
    "<img src = \"Pic_data/prayuth_translator.jpg\">"
   ]
  },
  {
   "cell_type": "code",
   "execution_count": null,
   "metadata": {},
   "outputs": [],
   "source": [
    "translations = translator.translate(text = \"เราจะทำตามสัญญา ขอเวลาอีกไม่นาน แล้วแผ่นดินที่งดงามจะคืนกลับมา เราจะทำอย่างซื่อตรง ขอแค่เธอจงไว้ใจและศรัทธา แผ่นดินจะดีในไม่ช้า ขอคืนความสุขให้เธอ ประชาชน\", # text ต้นทาง\n",
    "                                    src  = 'th', # ภาษาต้นทาง\n",
    "                                    dest = 'en') # ภาษาที่เราต้องการแปล\n",
    "\n",
    "# ได้มาเป็น object ของ การแปลภาษา\n",
    "translations"
   ]
  },
  {
   "cell_type": "code",
   "execution_count": null,
   "metadata": {},
   "outputs": [],
   "source": [
    "# ภาษาต้นทางก่อนแปล\n",
    "print('Original Text :')\n",
    "print(translations.origin)"
   ]
  },
  {
   "cell_type": "code",
   "execution_count": null,
   "metadata": {},
   "outputs": [],
   "source": [
    "# ผลลัพธ์จากการแปลภาษา\n",
    "print('Translated Text :')\n",
    "print(translations.text)"
   ]
  },
  {
   "cell_type": "markdown",
   "metadata": {},
   "source": [
    "## 2. Language Detection"
   ]
  },
  {
   "cell_type": "markdown",
   "metadata": {},
   "source": [
    "### 2.1 Detect Thai language"
   ]
  },
  {
   "cell_type": "code",
   "execution_count": null,
   "metadata": {},
   "outputs": [],
   "source": [
    "# สร้าง object จาก translator.detect\n",
    "LangDetectObj = translator.detect('ไปกับพี่มั๊ยจ๊ะน้องสาว')"
   ]
  },
  {
   "cell_type": "code",
   "execution_count": null,
   "metadata": {},
   "outputs": [],
   "source": [
    "# เอาค่าภาษาที่ได้ กับความมั่นใจ ออกมา\n",
    "\n",
    "LangDetect = LangDetectObj.lang\n",
    "LangConf   = LangDetectObj.confidence\n",
    "\n",
    "print('Detect language is = %s , with confidence = %.3f'%(LangDetect,LangConf))"
   ]
  },
  {
   "cell_type": "markdown",
   "metadata": {},
   "source": [
    "### 2.2 Detect Korean language"
   ]
  },
  {
   "cell_type": "code",
   "execution_count": null,
   "metadata": {},
   "outputs": [],
   "source": [
    "LangDetectObj = translator.detect('이 문장은 한글로 쓰여졌습니다.')"
   ]
  },
  {
   "cell_type": "code",
   "execution_count": null,
   "metadata": {},
   "outputs": [],
   "source": [
    "# เอาค่าภาษาที่ได้ กับความมั่นใจ ออกมา\n",
    "\n",
    "LangDetect = LangDetectObj.lang\n",
    "LangConf   = LangDetectObj.confidence\n",
    "\n",
    "print('Detect language is = %s , with confidence = %.3f'%(LangDetect,LangConf))"
   ]
  },
  {
   "cell_type": "markdown",
   "metadata": {},
   "source": [
    "## Exercise:\n",
    "\n",
    "แปลสิ่งที่ Tony Stark พูด ใน Avenger End Game\n",
    "\n",
    "https://www.moviequotesandmore.com/avengers-endgame-new-quotes/\n",
    "\n",
    "<img src = \"Pic_data/avenger.png\" width = 700>"
   ]
  },
  {
   "cell_type": "code",
   "execution_count": null,
   "metadata": {},
   "outputs": [],
   "source": [
    "text_source = 'Is this thing on? Hey, Miss Potts. If you find this recording, don’t feel bad about this. Part of the journey is the end. Just for the record, being adrift in space with zero promise of rescue is more fun than it sounds. Food and water ran out four days ago. Oxygen will run out tomorrow morning. That’ll be it. When I drift off, I will dream about you. It’s always you'"
   ]
  },
  {
   "cell_type": "code",
   "execution_count": null,
   "metadata": {},
   "outputs": [],
   "source": [
    "# Perform Translation\n",
    "# ใส่ค่าใน xxxx\n",
    "# hint en, th ดูจาก 1.1\n",
    "\n",
    "translations = translator.translate(text =  xxxx, # text ต้นทาง\n",
    "                                    src  =  xxxx, # ภาษาต้นทาง\n",
    "                                    dest =  xxxx) # ภาษาที่เราต้องการแปล\n",
    "\n",
    "# ได้มาเป็น object ของ การแปลภาษา\n",
    "translations"
   ]
  },
  {
   "cell_type": "code",
   "execution_count": null,
   "metadata": {},
   "outputs": [],
   "source": [
    "# ภาษาต้นทางก่อนแปล\n",
    "print('Original Text :')\n",
    "print(translations.origin)"
   ]
  },
  {
   "cell_type": "code",
   "execution_count": null,
   "metadata": {},
   "outputs": [],
   "source": [
    "# ผลลัพธ์จากการแปลภาษา\n",
    "print('Translated Text :')\n",
    "print(translations.text)"
   ]
  }
 ],
 "metadata": {
  "kernelspec": {
   "display_name": "Python 3",
   "language": "python",
   "name": "python3"
  },
  "language_info": {
   "codemirror_mode": {
    "name": "ipython",
    "version": 3
   },
   "file_extension": ".py",
   "mimetype": "text/x-python",
   "name": "python",
   "nbconvert_exporter": "python",
   "pygments_lexer": "ipython3",
   "version": "3.7.0"
  }
 },
 "nbformat": 4,
 "nbformat_minor": 2
}
