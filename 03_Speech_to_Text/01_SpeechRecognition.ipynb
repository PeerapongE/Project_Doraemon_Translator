{
 "cells": [
  {
   "cell_type": "markdown",
   "metadata": {},
   "source": [
    "# Python 101: Let's get started\n",
    "## Speech to Text: แปลงเสียงเป็นตัวอักษร, ที่เราเคยเห็นกันใน closed caption\n",
    "\n",
    "<img src=\"Pic_data/Python_Logo.png\" width = 500>\n",
    "\n",
    "\n",
    "<img src=\"Pic_data/PY-01_Elephant.jpg\" width = 400>\n",
    "\n",
    "https://www.facebook.com/elephant.data.th/\n",
    "\n",
    "\n"
   ]
  },
  {
   "cell_type": "markdown",
   "metadata": {},
   "source": [
    "## Objective\n",
    "\n",
    "* ทำ Speech to Text แปลง เสียง เป็น ตัวอักษร\n",
    "* อ่านไฟล์เสียงจาก autio file\n",
    "* อ่านไฟล์เสียงจาก microphone\n",
    "\n",
    "## Main Reference:\n",
    "\n",
    "* The Ultimate Guide To Speech Recognition With Python\n",
    "* https://realpython.com/python-speech-recognition/\n",
    "\n"
   ]
  },
  {
   "cell_type": "markdown",
   "metadata": {},
   "source": [
    "## Speech to Text in Action\n",
    "\n",
    "บรรยายคำพูดในการบรรยาย หรือ การอ่านข่าว\n",
    "\n",
    "<img src = \"Pic_data/avenger.gif\">\n",
    "\n",
    "การอ่านข่าว จะมีคำพูดแบบ real time, close caption จะสร้างคำบรรยายให้\n",
    "\n",
    "<img src = \"Pic_data/close_caption_news.jpg\">"
   ]
  },
  {
   "cell_type": "code",
   "execution_count": null,
   "metadata": {},
   "outputs": [],
   "source": [
    "# Installation\n",
    "# pip install SpeechRecognition\n",
    "# require internet connection\n",
    "\n",
    "import speech_recognition as sr"
   ]
  },
  {
   "cell_type": "markdown",
   "metadata": {},
   "source": [
    "## 1. Speech Recognition from audio file"
   ]
  },
  {
   "cell_type": "code",
   "execution_count": null,
   "metadata": {},
   "outputs": [],
   "source": [
    "# สร้าง recognizer ขึ้นมา default คือ google Web Speech API\n",
    "# ตัวอื่นๆ ต้องการ installation หรือ API key\n",
    "r = sr.Recognizer()"
   ]
  },
  {
   "cell_type": "code",
   "execution_count": null,
   "metadata": {},
   "outputs": [],
   "source": [
    "# define file target\n",
    "filename = 'harvard.wav'\n",
    "\n"
   ]
  },
  {
   "cell_type": "code",
   "execution_count": null,
   "metadata": {},
   "outputs": [],
   "source": [
    "# ใช้ speech recognition จับไฟล์เสียง เป็น audio file\n",
    "\n",
    "harvard = sr.AudioFile(filename)\n",
    "type(harvard)"
   ]
  },
  {
   "cell_type": "code",
   "execution_count": null,
   "metadata": {},
   "outputs": [],
   "source": [
    "# ให้ audio ทำการ record จาก file เสียง\n",
    "with harvard as source:\n",
    "    audio = r.record(source)\n",
    "\n"
   ]
  },
  {
   "cell_type": "code",
   "execution_count": null,
   "metadata": {},
   "outputs": [],
   "source": [
    "# ค่าที่ได้จะเป็น audio data\n",
    "type(audio)"
   ]
  },
  {
   "cell_type": "code",
   "execution_count": null,
   "metadata": {},
   "outputs": [],
   "source": [
    "# จาก audio data ให้ recognizer มาแปลงเป็น text\n",
    "r.recognize_google(audio)"
   ]
  },
  {
   "cell_type": "markdown",
   "metadata": {},
   "source": [
    "## 2. Speech Recognition from your microphone\n",
    "\n",
    "#### require installation of pyaudio\n",
    "#### pip install pyaudio"
   ]
  },
  {
   "cell_type": "code",
   "execution_count": null,
   "metadata": {},
   "outputs": [],
   "source": [
    "# สร้าง recognizer object\n",
    "r = sr.Recognizer()"
   ]
  },
  {
   "cell_type": "code",
   "execution_count": null,
   "metadata": {},
   "outputs": [],
   "source": [
    "# สร้าง microphone object\n",
    "\n",
    "mic = sr.Microphone()\n"
   ]
  },
  {
   "cell_type": "code",
   "execution_count": null,
   "metadata": {},
   "outputs": [],
   "source": [
    "# record with microphone\n",
    "\n",
    "with mic as source:\n",
    "    print('เริ่มพูดผ่านไมค์ เป็นภาษาไทย ....') # ให้พูดทันทีที่เห็นคำนี้\n",
    "    #r.adjust_for_ambient_noise(source) # กรณีที่ต้องการปรับ Noise\n",
    "    audio = r.listen(source)\n"
   ]
  },
  {
   "cell_type": "code",
   "execution_count": null,
   "metadata": {},
   "outputs": [],
   "source": [
    "# Speech to text\n",
    "\n",
    "print('Speech to text in progress .....')\n",
    "#r.recognize_google(audio) # default language is english\n",
    "r.recognize_google(audio, language=\"th\")   "
   ]
  }
 ],
 "metadata": {
  "kernelspec": {
   "display_name": "Python 3",
   "language": "python",
   "name": "python3"
  },
  "language_info": {
   "codemirror_mode": {
    "name": "ipython",
    "version": 3
   },
   "file_extension": ".py",
   "mimetype": "text/x-python",
   "name": "python",
   "nbconvert_exporter": "python",
   "pygments_lexer": "ipython3",
   "version": "3.7.0"
  }
 },
 "nbformat": 4,
 "nbformat_minor": 2
}
